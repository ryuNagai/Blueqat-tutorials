{
 "cells": [
  {
   "cell_type": "markdown",
   "metadata": {},
   "source": [
    "# QCBM\n",
    "Quantum Circuit Born Machine is a model for learning state vectors and using them in machine learning.  \n",
    "It utilizes an arbitrary state of one qubit and an entanglement of two qubits to learn a state vector."
   ]
  },
  {
   "cell_type": "markdown",
   "metadata": {},
   "source": [
    "Install Blueqat"
   ]
  },
  {
   "cell_type": "code",
   "execution_count": null,
   "metadata": {},
   "outputs": [],
   "source": [
    "!pip install blueqat"
   ]
  },
  {
   "cell_type": "markdown",
   "metadata": {},
   "source": [
    "In this case, I'm going to have them learn a simple pattern."
   ]
  },
  {
   "cell_type": "markdown",
   "metadata": {},
   "source": [
    "## Prepare the circuit\n",
    "Let's build a 4 qubit circuit, using U3 gates and CX.\n",
    "\n",
    "```\n",
    "|0> --[input]--U3--*--------X--[repeat]--\n",
    "|0> --[input]--U3--X--*-----|--[repeat]--\n",
    "|0> --[input]--U3-----X--*--|--[repeat]--\n",
    "|0> --[input]--U3--------X--*--[repeat]--[m]--[expt]-[loss]\n",
    "```"
   ]
  },
  {
   "cell_type": "markdown",
   "metadata": {},
   "source": [
    "Use SGD for updates and MSE for loss functions."
   ]
  },
  {
   "cell_type": "code",
   "execution_count": null,
   "metadata": {},
   "outputs": [],
   "source": [
    "from blueqat import Circuit\n",
    "import matplotlib.pyplot as plt\n",
    "import numpy as np\n",
    "%matplotlib inline\n",
    "import time\n",
    "\n",
    "np.random.seed(30)\n",
    "\n",
    "#initial parameters\n",
    "ainit = [np.random.rand()*np.pi*2 for i in range(36)]\n",
    "\n",
    "#1qubit state preparation\n",
    "def arbi(para):\n",
    "    circ1 = Circuit()\n",
    "    circ1.u3(para[0],para[1],para[2])[0]\n",
    "    circ1.u3(para[3],para[4],para[5])[1]\n",
    "    circ1.u3(para[6],para[7],para[8])[2]\n",
    "    circ1.u3(para[9],para[10],para[11])[3]\n",
    "    return circ1\n",
    "    \n",
    "#cx loop circuit\n",
    "def loop():\n",
    "    circ2 = Circuit()\n",
    "    circ2.cx[0,1]\n",
    "    circ2.cx[1,2]\n",
    "    circ2.cx[2,3]\n",
    "    circ2.cx[3,0]\n",
    "    return circ2\n",
    "\n",
    "#QCBM circuit\n",
    "def qcbm(a):\n",
    "    u = Circuit()\n",
    "    u += arbi(a[0:12])\n",
    "    u += loop()\n",
    "    u += arbi(a[12:24])\n",
    "    u += loop()\n",
    "    u += arbi(a[24:36])\n",
    "    u += loop()\n",
    "    return u\n",
    "\n",
    "#expectation value\n",
    "def E(sv):\n",
    "    return sum(np.abs(sv[:8])**2)-sum(np.abs(sv[8:])**2)\n",
    "\n",
    "#loss function\n",
    "def L(p,t):\n",
    "    return (p-t)**2\n",
    "\n",
    "def ix(l):\n",
    "    u = Circuit(4)\n",
    "    for i in l:\n",
    "        u.x[i]\n",
    "    return u\n",
    "\n",
    "#training data\n",
    "inp = [[0,1],[1,2],[2,3],[3,0],[0,2],[1,3],[0,1,2],[1,2,3]]\n",
    "tgt = [1,1,1,1,-1,-1,-1,-1]\n",
    "\n",
    "#initial parameters\n",
    "a = ainit.copy()\n",
    "\n",
    "#result list\n",
    "ar = []\n",
    "\n",
    "h = 0.01\n",
    "e = 0.01\n",
    "\n",
    "#iterations\n",
    "nsteps = 3000\n",
    "\n",
    "start = time.time()\n",
    "for i in range(nsteps):\n",
    "    r = np.random.randint(0,len(inp))\n",
    "\n",
    "    c = ix(inp[r]) + qcbm(a)\n",
    "    loss = L(E(c.run()),tgt[r])\n",
    "\n",
    "    ar.append(loss)\n",
    "\n",
    "    at = [0 for i in range(len(a))]   \n",
    "    for j in range(len(a)):\n",
    "        aa = a.copy()\n",
    "        aa[j] += h\n",
    "        c = ix(inp[r]) + qcbm(aa)        \n",
    "        loss2 = L(E(c.run()),tgt[r])\n",
    "        at[j] = a[j] - e*(loss2 - loss)/h\n",
    "\n",
    "    a = at\n",
    "\n",
    "plt.plot(ar)\n",
    "plt.show()\n",
    "\n",
    "print(time.time() - start)"
   ]
  },
  {
   "cell_type": "code",
   "execution_count": 4,
   "metadata": {},
   "outputs": [
    {
     "data": {
      "text/plain": [
       "Counter({'0000': 868, '0001': 132})"
      ]
     },
     "execution_count": 4,
     "metadata": {},
     "output_type": "execute_result"
    }
   ],
   "source": [
    "#label 1\n",
    "(ix(inp[0]) + qcbm(a)).m[3].run(shots=1000)"
   ]
  },
  {
   "cell_type": "code",
   "execution_count": 5,
   "metadata": {},
   "outputs": [
    {
     "data": {
      "text/plain": [
       "Counter({'0000': 158, '0001': 842})"
      ]
     },
     "execution_count": 5,
     "metadata": {},
     "output_type": "execute_result"
    }
   ],
   "source": [
    "#label -1\n",
    "(ix(inp[6]) + qcbm(a)).m[3].run(shots=1000)"
   ]
  },
  {
   "cell_type": "code",
   "execution_count": null,
   "metadata": {},
   "outputs": [],
   "source": []
  }
 ],
 "metadata": {
  "kernelspec": {
   "display_name": "Python 3",
   "language": "python",
   "name": "python3"
  },
  "language_info": {
   "codemirror_mode": {
    "name": "ipython",
    "version": 3
   },
   "file_extension": ".py",
   "mimetype": "text/x-python",
   "name": "python",
   "nbconvert_exporter": "python",
   "pygments_lexer": "ipython3",
   "version": "3.6.5"
  }
 },
 "nbformat": 4,
 "nbformat_minor": 4
}
