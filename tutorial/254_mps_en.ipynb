{
 "cells": [
  {
   "cell_type": "markdown",
   "metadata": {},
   "source": [
    "# Quantum machine learning and MPS\n",
    "Let's look at Matrix Product State as a model for quantum machine learning.\n",
    "\n",
    "## What you will learn this time.\n",
    "1. MPS model\n",
    "2. Optimisation calculation\n",
    "\n",
    "## Install Blueqat\n",
    "Install Blueqat using pip."
   ]
  },
  {
   "cell_type": "code",
   "execution_count": 1,
   "metadata": {
    "collapsed": true
   },
   "outputs": [
    {
     "name": "stdout",
     "output_type": "stream",
     "text": [
      "Requirement already satisfied: blueqat in /home/ec2-user/anaconda3/envs/python3/lib/python3.6/site-packages (0.3.13)\n",
      "Requirement already satisfied: scipy>=1.1.0 in /home/ec2-user/anaconda3/envs/python3/lib/python3.6/site-packages (from blueqat) (1.1.0)\n",
      "Requirement already satisfied: numpy~=1.12 in /home/ec2-user/anaconda3/envs/python3/lib/python3.6/site-packages (from blueqat) (1.18.4)\n",
      "\u001b[31mdwave-cloud-client 0.7.2 has requirement click>=7.0, but you'll have click 6.7 which is incompatible.\u001b[0m\n",
      "\u001b[33mYou are using pip version 10.0.1, however version 20.1 is available.\n",
      "You should consider upgrading via the 'pip install --upgrade pip' command.\u001b[0m\n"
     ]
    }
   ],
   "source": [
    "!pip install blueqat"
   ]
  },
  {
   "cell_type": "markdown",
   "metadata": {},
   "source": [
    "The model we are going to make is called MPS.  \n",
    "Quantum circuit is following.\n",
    "\n",
    "```\n",
    "|0> --*--\n",
    "      |\n",
    "|0> --*--*--\n",
    "         |\n",
    "|0> -----*--*--\n",
    "            |\n",
    "|0> --------*----[M]\n",
    "```\n",
    "\n",
    "This circuit uses one-qubit rotating gates and two-qubit gates, CX.  \n",
    "For more information,\n",
    "\n",
    "```\n",
    "|0> --Rx-Ry-Rz--*--\n",
    "                |\n",
    "|0> --Rx-Ry-Rz--X--Rx-Ry-Rz--*--\n",
    "                             | \n",
    "|0> ---------------Rx-Ry-Rz--X--Rx-Ry-Rz--*--\n",
    "                                          |\n",
    "|0> ----------------------------Rx-Ry-Rz--X----[M]\n",
    "```\n",
    "\n",
    "Place the Rx, Ry, Rz gates and CX gates.\n",
    "\n",
    "First, load the tool."
   ]
  },
  {
   "cell_type": "code",
   "execution_count": 6,
   "metadata": {},
   "outputs": [],
   "source": [
    "from blueqat import Circuit\n",
    "import matplotlib.pyplot as plt\n",
    "import numpy as np\n",
    "import time\n",
    "%matplotlib inline"
   ]
  },
  {
   "cell_type": "markdown",
   "metadata": {},
   "source": [
    "Set up the hyper parameters."
   ]
  },
  {
   "cell_type": "code",
   "execution_count": 7,
   "metadata": {},
   "outputs": [],
   "source": [
    "np.random.seed(45)\n",
    "\n",
    "#Steps of optimization\n",
    "nsteps = 5000\n",
    "\n",
    "#Number of parameters to optimize\n",
    "nparams = 18\n",
    "\n",
    "#Fineness of numerical differentiation\n",
    "h = 0.01\n",
    "\n",
    "#Learning rate\n",
    "e = 0.01\n",
    "\n",
    "#Initial parameter\n",
    "ainit = [np.random.rand()*np.pi*2 for i in range(nparams)]\n",
    "\n",
    "#List for storing results\n",
    "arr = []\n",
    "\n",
    "#1 for training, 2 for reasoning.\n",
    "mode = 1"
   ]
  },
  {
   "cell_type": "code",
   "execution_count": 16,
   "metadata": {},
   "outputs": [],
   "source": [
    "def mpsZ(a,ran,mode=1):\n",
    "    \n",
    "    #Input circuit\n",
    "    init = [Circuit(4).x[0,1],Circuit(4).x[2,3],Circuit(4).x[0],Circuit(4).x[1],Circuit(4).x[2],Circuit(4).x[0,2]]\n",
    "    #Target label\n",
    "    target = [1,1,-1,-1,-1,1]\n",
    "   \n",
    "    #Buliding circuit\n",
    "    u = init[ran]\n",
    "    u.rx(a[0])[0].ry(a[1])[0].rz(a[2])[0]\n",
    "    u.rx(a[3])[1].ry(a[4])[1].rz(a[5])[1]    \n",
    "    u.rx(a[6])[2].ry(a[7])[2].rz(a[8])[2]\n",
    "    u.rx(a[9])[3].ry(a[10])[3].rz(a[11])[3]\n",
    "    u.cx[0,1]\n",
    "    u.rx(a[12])[1].ry(a[13])[1].rz(a[14])[1]\n",
    "    u.cx[1,2]\n",
    "    u.rx(a[15])[2].ry(a[16])[2].rz(a[17])[2]\n",
    "    u.cx[2,3]\n",
    "        \n",
    "    #Take expectation value\n",
    "    full = u.run()\n",
    "    expt = sum(np.abs(full[:8])**2)-sum(np.abs(full[8:])**2)\n",
    "    \n",
    "    #full = u.m[3].run(shots=nshots)\n",
    "    #expt = (full['0000'] - full['0001'])/nshots\n",
    "    \n",
    "    if(mode ==1):\n",
    "        #Returns the error between the expected value and the label.\n",
    "        return (expt - target[ran])**2\n",
    "    else:\n",
    "        return expt"
   ]
  },
  {
   "cell_type": "markdown",
   "metadata": {},
   "source": [
    "Let's start. Each time the gradient is calculated, the data is randomly selected from 0 to 3 and optimized."
   ]
  },
  {
   "cell_type": "code",
   "execution_count": 17,
   "metadata": {},
   "outputs": [
    {
     "data": {
      "image/png": "[encoded data removed]",
      "text/plain": [
       "<Figure size 432x288 with 1 Axes>"
      ]
     },
     "metadata": {},
     "output_type": "display_data"
    },
    {
     "name": "stdout",
     "output_type": "stream",
     "text": [
      "85.52928733825684\n"
     ]
    }
   ],
   "source": [
    "start = time.time()\n",
    "\n",
    "for i in range(nsteps):\n",
    "    it = np.random.randint(0,3)\n",
    "    \n",
    "    loss = mpsZ(ainit,it)\n",
    "    arr.append(loss)\n",
    "    atemp = [0 for i in range(nparams)]\n",
    "    \n",
    "    for j in range(nparams):\n",
    "        aa = ainit.copy()\n",
    "        aa[j] += h\n",
    "        atemp[j] = ainit[j] - e*(mpsZ(aa,it) - loss)/h\n",
    "\n",
    "    ainit = atemp\n",
    "\n",
    "plt.plot(arr)\n",
    "plt.show()\n",
    "print(time.time() - start)"
   ]
  },
  {
   "cell_type": "markdown",
   "metadata": {},
   "source": [
    "I'd like to check it out as it converged nicely."
   ]
  },
  {
   "cell_type": "code",
   "execution_count": 18,
   "metadata": {},
   "outputs": [
    {
     "data": {
      "text/plain": [
       "-0.9971247051492784"
      ]
     },
     "execution_count": 18,
     "metadata": {},
     "output_type": "execute_result"
    }
   ],
   "source": [
    "mpsZ(ainit,4,mode=2)"
   ]
  },
  {
   "cell_type": "code",
   "execution_count": 19,
   "metadata": {},
   "outputs": [
    {
     "data": {
      "text/plain": [
       "0.9976075247345314"
      ]
     },
     "execution_count": 19,
     "metadata": {},
     "output_type": "execute_result"
    }
   ],
   "source": [
    "mpsZ(ainit,5,mode=2)"
   ]
  },
  {
   "cell_type": "code",
   "execution_count": null,
   "metadata": {},
   "outputs": [],
   "source": []
  }
 ],
 "metadata": {
  "kernelspec": {
   "display_name": "Python 3",
   "language": "python",
   "name": "python3"
  },
  "language_info": {
   "codemirror_mode": {
    "name": "ipython",
    "version": 3
   },
   "file_extension": ".py",
   "mimetype": "text/x-python",
   "name": "python",
   "nbconvert_exporter": "python",
   "pygments_lexer": "ipython3",
   "version": "3.6.5"
  }
 },
 "nbformat": 4,
 "nbformat_minor": 4
}
