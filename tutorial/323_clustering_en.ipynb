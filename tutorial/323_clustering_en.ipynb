{
 "cells": [
  {
   "cell_type": "markdown",
   "metadata": {},
   "source": [
    "# Clustering\n",
    "Let's do classifying and dividing into clusters as an optimization problem.\n",
    "\n",
    "## What you will learn this time.\n",
    "1. Clustering using quantum annealing\n",
    "2. Clustering using QAOA\n",
    "\n",
    "## Install Blueqat\n",
    "Install Blueqat using pip"
   ]
  },
  {
   "cell_type": "code",
   "execution_count": 1,
   "metadata": {
    "collapsed": true
   },
   "outputs": [
    {
     "name": "stdout",
     "output_type": "stream",
     "text": [
      "Requirement already satisfied: blueqat in /home/ec2-user/anaconda3/envs/python3/lib/python3.6/site-packages (0.3.14)\n",
      "Requirement already satisfied: numpy~=1.12 in /home/ec2-user/anaconda3/envs/python3/lib/python3.6/site-packages (from blueqat) (1.14.6)\n",
      "Requirement already satisfied: scipy>=1.1.0 in /home/ec2-user/anaconda3/envs/python3/lib/python3.6/site-packages (from blueqat) (1.1.0)\n",
      "\u001b[31mnumba 0.49.0 has requirement numpy>=1.15, but you'll have numpy 1.14.6 which is incompatible.\u001b[0m\n",
      "\u001b[33mYou are using pip version 10.0.1, however version 20.1 is available.\n",
      "You should consider upgrading via the 'pip install --upgrade pip' command.\u001b[0m\n"
     ]
    }
   ],
   "source": [
    "!pip install blueqat"
   ]
  },
  {
   "cell_type": "markdown",
   "metadata": {},
   "source": [
    "## Overview\n",
    "Clustering in the optimization problem is\n",
    "\n",
    "Blue is a cluster, red is a qubit, and the thick black line represents that one of the three red qubits is selected. Yellow line is used for weighting between nodes by distance and so on.\n",
    "\n",
    "<div>\n",
    "    <img src=\"https://github.com/Blueqat/Blueqat-tutorials/blob/master/tutorial-ja/img/323_cluster_1.png?raw=1\" width=400>\n",
    "</div>\n",
    "\n",
    "In this tutorial, let's cluster the randomly set points with D-Wave's Leap2.\n",
    "\n",
    "## Example\n",
    "The four nodes are divided into two clusters. The number of qubits required is 4 * 2 = 8.  \n",
    "\n",
    "For the eight qubits of $q_0, q_1, q_2, q_3, q_4, q_5, q_6$, and $q_7$, $q_0$ and $q_4$, $q_1$ and $q_5$, $q_2$ and $q_6$, and $q_3$ and $q_7$ represent the same nodes, the value of the qubit representing the cluster to which it belongs is set to 1, and the other is set to 0.\n",
    "\n",
    "Nodes and edges refer to Network Figure 1 in the middle of the example."
   ]
  },
  {
   "cell_type": "markdown",
   "metadata": {},
   "source": [
    "The lesser of the sum of distances between nodes in the cluster is chosen.\n",
    "\n",
    "$$\n",
    "Cost = \\sum d_{ij} x_i x_j\n",
    "$$\n",
    "\n",
    "The constraint is that only one of the qubits representing the same node will be 1 and the rest will be 0.\n",
    "$$\n",
    "Constraint = \\sum(\\sum_{i=1}^{n_{cluster}} x_{i} - 1)^2\n",
    "$$\n",
    "\n",
    "First, load the tool."
   ]
  },
  {
   "cell_type": "code",
   "execution_count": 2,
   "metadata": {},
   "outputs": [],
   "source": [
    "import numpy as np\n",
    "import pandas as pd\n",
    "import networkx as nx\n",
    "from blueqat.wq import *\n",
    "import matplotlib.pyplot as plt\n",
    "%matplotlib inline"
   ]
  },
  {
   "cell_type": "markdown",
   "metadata": {},
   "source": [
    "First, create the data.  \n",
    "In this tutorial, let's do a simple problem that divides 4 nodes into 2 clusters."
   ]
  },
  {
   "cell_type": "code",
   "execution_count": 3,
   "metadata": {},
   "outputs": [
    {
     "name": "stdout",
     "output_type": "stream",
     "text": [
      "nodes 4\n",
      "clusters 2\n",
      "qubits 8\n"
     ]
    }
   ],
   "source": [
    "n_node = 4\n",
    "n_cluster = 2\n",
    "N = n_node*n_cluster\n",
    "\n",
    "print('nodes',n_node)\n",
    "print('clusters',n_cluster)\n",
    "print('qubits',N)"
   ]
  },
  {
   "cell_type": "markdown",
   "metadata": {},
   "source": [
    "Create the data in coordinates so that it is moderately spread out."
   ]
  },
  {
   "cell_type": "code",
   "execution_count": 4,
   "metadata": {},
   "outputs": [
    {
     "data": {
      "text/html": [
       "<div>\n",
       "<style scoped>\n",
       "    .dataframe tbody tr th:only-of-type {\n",
       "        vertical-align: middle;\n",
       "    }\n",
       "\n",
       "    .dataframe tbody tr th {\n",
       "        vertical-align: top;\n",
       "    }\n",
       "\n",
       "    .dataframe thead th {\n",
       "        text-align: right;\n",
       "    }\n",
       "</style>\n",
       "<table border=\"1\" class=\"dataframe\">\n",
       "  <thead>\n",
       "    <tr style=\"text-align: right;\">\n",
       "      <th></th>\n",
       "      <th>x</th>\n",
       "      <th>y</th>\n",
       "    </tr>\n",
       "  </thead>\n",
       "  <tbody>\n",
       "    <tr>\n",
       "      <th>0</th>\n",
       "      <td>9.020401</td>\n",
       "      <td>2.086793</td>\n",
       "    </tr>\n",
       "    <tr>\n",
       "      <th>1</th>\n",
       "      <td>6.896391</td>\n",
       "      <td>3.567573</td>\n",
       "    </tr>\n",
       "    <tr>\n",
       "      <th>2</th>\n",
       "      <td>17.454864</td>\n",
       "      <td>13.024077</td>\n",
       "    </tr>\n",
       "    <tr>\n",
       "      <th>3</th>\n",
       "      <td>15.294452</td>\n",
       "      <td>11.772365</td>\n",
       "    </tr>\n",
       "  </tbody>\n",
       "</table>\n",
       "</div>"
      ],
      "text/plain": [
       "           x          y\n",
       "0   9.020401   2.086793\n",
       "1   6.896391   3.567573\n",
       "2  17.454864  13.024077\n",
       "3  15.294452  11.772365"
      ]
     },
     "execution_count": 4,
     "metadata": {},
     "output_type": "execute_result"
    }
   ],
   "source": [
    "x,y = [],[]\n",
    "\n",
    "for i in range(n_cluster):\n",
    "    x = np.append(x, np.random.normal(np.random.randint(0,n_cluster*10), 1.5, int(n_node/n_cluster)))\n",
    "    y = np.append(y, np.random.normal(np.random.randint(0,n_cluster*10), 1.5, int(n_node/n_cluster)))\n",
    "\n",
    "df = pd.DataFrame({'x':x,'y':y})\n",
    "df"
   ]
  },
  {
   "cell_type": "markdown",
   "metadata": {},
   "source": [
    "Check the distribution of points at the coordinates you have created."
   ]
  },
  {
   "cell_type": "code",
   "execution_count": 5,
   "metadata": {},
   "outputs": [
    {
     "data": {
      "text/plain": [
       "<matplotlib.collections.PathCollection at 0x7f872021da20>"
      ]
     },
     "execution_count": 5,
     "metadata": {},
     "output_type": "execute_result"
    },
    {
     "data": {
      "image/png": "[encoded data removed]",
      "text/plain": [
       "<Figure size 432x288 with 1 Axes>"
      ]
     },
     "metadata": {},
     "output_type": "display_data"
    }
   ],
   "source": [
    "#plot\n",
    "plt.scatter(df['x'], df['y'])"
   ]
  },
  {
   "cell_type": "markdown",
   "metadata": {},
   "source": [
    "Prepare the QUBO matrix with the distance setting."
   ]
  },
  {
   "cell_type": "code",
   "execution_count": 6,
   "metadata": {},
   "outputs": [],
   "source": [
    "def initCost(data, n_cluster):\n",
    "    #Create a matrix of distances.\n",
    "    n_node = len(data)\n",
    "    d = np.zeros((n_node, n_node))\n",
    "\n",
    "    #Find the distance from the X and Y coordinates of the data.\n",
    "    for i in range(0, n_node-1):\n",
    "        for j in range(i+1, n_node):\n",
    "            a = np.array([data['x'][i], data['y'][i]])\n",
    "            b = np.array([data['x'][j], data['y'][j]])\n",
    "            d[i][j] = np.linalg.norm(a-b)\n",
    "\n",
    "    #The size of QUBO matrix is (number of qubits) * (the number of qubits.)\n",
    "    N = n_node*n_cluster\n",
    "    A = np.zeros((N, N))\n",
    "\n",
    "    #Duplicate and put as many distances as there are clusters.\n",
    "    for i in range(0, n_node-1):\n",
    "        for j in range(i+1, n_node):\n",
    "            for k in range(n_cluster):\n",
    "                A[i+k*n_node][j+k*n_node] = d[i][j]\n",
    "    \n",
    "    return A, d"
   ]
  },
  {
   "cell_type": "code",
   "execution_count": 7,
   "metadata": {},
   "outputs": [
    {
     "data": {
      "text/plain": [
       "array([[ 0.        ,  2.58923218, 13.81174723, 11.54010552,  0.        ,\n",
       "         0.        ,  0.        ,  0.        ],\n",
       "       [ 0.        ,  0.        , 14.17416061, 11.74078568,  0.        ,\n",
       "         0.        ,  0.        ,  0.        ],\n",
       "       [ 0.        ,  0.        ,  0.        ,  2.49683073,  0.        ,\n",
       "         0.        ,  0.        ,  0.        ],\n",
       "       [ 0.        ,  0.        ,  0.        ,  0.        ,  0.        ,\n",
       "         0.        ,  0.        ,  0.        ],\n",
       "       [ 0.        ,  0.        ,  0.        ,  0.        ,  0.        ,\n",
       "         2.58923218, 13.81174723, 11.54010552],\n",
       "       [ 0.        ,  0.        ,  0.        ,  0.        ,  0.        ,\n",
       "         0.        , 14.17416061, 11.74078568],\n",
       "       [ 0.        ,  0.        ,  0.        ,  0.        ,  0.        ,\n",
       "         0.        ,  0.        ,  2.49683073],\n",
       "       [ 0.        ,  0.        ,  0.        ,  0.        ,  0.        ,\n",
       "         0.        ,  0.        ,  0.        ]])"
      ]
     },
     "execution_count": 7,
     "metadata": {},
     "output_type": "execute_result"
    }
   ],
   "source": [
    "A,d = initCost(df, n_cluster)\n",
    "A"
   ]
  },
  {
   "cell_type": "markdown",
   "metadata": {},
   "source": [
    "This time we set the constraints between $q_0$ and $q_4$, $q_1$ and $q_5$, $q_2$ and $q_6$, abd $q_3$ and $q_7$respectively.  \n",
    "Since they can only belong to one of the clusters, one of the values of each will be 1 and one of them will be 0.\n",
    "\n",
    "$$\n",
    "(q_0+q_4 - 1)^2 = -q_0-q_4+2q_0q_4\\\\\n",
    "(q_1+q_5 - 1)^2 = -q_1-q_5+2q_1q_5\\\\\n",
    "(q_2+q_6 - 1)^2 = -q_2-q_6+2q_2q_6\\\\\n",
    "(q_3+q_7 - 1)^2 = -q_3-q_7+2q_3q_7\\\\\n",
    "$$"
   ]
  },
  {
   "cell_type": "code",
   "execution_count": 8,
   "metadata": {},
   "outputs": [
    {
     "data": {
      "text/plain": [
       "array([[-1,  0,  0,  0,  2,  0,  0,  0],\n",
       "       [ 0, -1,  0,  0,  0,  2,  0,  0],\n",
       "       [ 0,  0, -1,  0,  0,  0,  2,  0],\n",
       "       [ 0,  0,  0, -1,  0,  0,  0,  2],\n",
       "       [ 0,  0,  0,  0, -1,  0,  0,  0],\n",
       "       [ 0,  0,  0,  0,  0, -1,  0,  0],\n",
       "       [ 0,  0,  0,  0,  0,  0, -1,  0],\n",
       "       [ 0,  0,  0,  0,  0,  0,  0, -1]])"
      ]
     },
     "execution_count": 8,
     "metadata": {},
     "output_type": "execute_result"
    }
   ],
   "source": [
    "B = np.diag([-1]*N)\n",
    "\n",
    "for i in range(n_node):\n",
    "    B[i][i+n_node] = 2\n",
    "B"
   ]
  },
  {
   "cell_type": "markdown",
   "metadata": {},
   "source": [
    "Network Figure 1"
   ]
  },
  {
   "cell_type": "code",
   "execution_count": 9,
   "metadata": {},
   "outputs": [
    {
     "name": "stderr",
     "output_type": "stream",
     "text": [
      "/home/ec2-user/anaconda3/envs/python3/lib/python3.6/site-packages/networkx/drawing/nx_pylab.py:611: MatplotlibDeprecationWarning: isinstance(..., numbers.Number)\n",
      "  if cb.is_numlike(alpha):\n"
     ]
    },
    {
     "data": {
      "image/png": "[encoded data removed]",
      "text/plain": [
       "<Figure size 432x288 with 1 Axes>"
      ]
     },
     "metadata": {},
     "output_type": "display_data"
    }
   ],
   "source": [
    "#Create QUBO\n",
    "M = 1\n",
    "qubo = A+B*M\n",
    "\n",
    "#Check by network figure\n",
    "G = nx.from_numpy_matrix(qubo)\n",
    "nx.draw_networkx(G)\n",
    "plt.show()"
   ]
  },
  {
   "cell_type": "markdown",
   "metadata": {},
   "source": [
    "Determine the value of M and do the calculation."
   ]
  },
  {
   "cell_type": "code",
   "execution_count": 10,
   "metadata": {},
   "outputs": [
    {
     "data": {
      "text/plain": [
       "[1, 1, 0, 0, 0, 0, 1, 1]"
      ]
     },
     "execution_count": 10,
     "metadata": {},
     "output_type": "execute_result"
    }
   ],
   "source": [
    "#blueqatで\n",
    "M = 10\n",
    "qubo = A+B*M\n",
    "\n",
    "a = Opt()\n",
    "a.qubo = qubo\n",
    "res = a.run()\n",
    "\n",
    "res"
   ]
  },
  {
   "cell_type": "markdown",
   "metadata": {},
   "source": [
    "Let's check the results of the calculation."
   ]
  },
  {
   "cell_type": "code",
   "execution_count": 11,
   "metadata": {},
   "outputs": [
    {
     "data": {
      "text/plain": [
       "<matplotlib.collections.PathCollection at 0x7f87200d4a90>"
      ]
     },
     "execution_count": 11,
     "metadata": {},
     "output_type": "execute_result"
    },
    {
     "data": {
      "image/png": "[encoded data removed]",
      "text/plain": [
       "<Figure size 432x288 with 1 Axes>"
      ]
     },
     "metadata": {},
     "output_type": "display_data"
    }
   ],
   "source": [
    "df['cluster'] = res[:4]\n",
    "plt.scatter(df['x'], df['y'], c=df['cluster'])"
   ]
  },
  {
   "cell_type": "markdown",
   "metadata": {},
   "source": [
    "## For next, let's try to solve it with QAOA."
   ]
  },
  {
   "cell_type": "code",
   "execution_count": 18,
   "metadata": {},
   "outputs": [],
   "source": [
    "import numpy as np\n",
    "import networkx as nx\n",
    "import matplotlib.pyplot as plt\n",
    "import pandas as pd\n",
    "\n",
    "import blueqat\n",
    "from blueqat import Circuit\n",
    "from blueqat import vqe,wq\n",
    "from blueqat.pauli import X,Y,Z\n",
    "\n",
    "%matplotlib inline"
   ]
  },
  {
   "cell_type": "code",
   "execution_count": 19,
   "metadata": {},
   "outputs": [
    {
     "name": "stderr",
     "output_type": "stream",
     "text": [
      "/home/ec2-user/anaconda3/envs/python3/lib/python3.6/site-packages/networkx/drawing/nx_pylab.py:611: MatplotlibDeprecationWarning: isinstance(..., numbers.Number)\n",
      "  if cb.is_numlike(alpha):\n"
     ]
    },
    {
     "data": {
      "image/png": "[encoded data removed]",
      "text/plain": [
       "<Figure size 432x288 with 1 Axes>"
      ]
     },
     "metadata": {},
     "output_type": "display_data"
    }
   ],
   "source": [
    "#Create QUBO\n",
    "qubo = A\n",
    "\n",
    "#Check by network figure\n",
    "G = nx.from_numpy_matrix(qubo)\n",
    "nx.draw_networkx(G)\n",
    "plt.show()"
   ]
  },
  {
   "cell_type": "markdown",
   "metadata": {},
   "source": [
    "We don't need any constraint this time."
   ]
  },
  {
   "cell_type": "markdown",
   "metadata": {},
   "source": [
    "Determine the constraints with a mixer.\n",
    "1. Determine the initial entanglement\n",
    "2. Making XY Mixers"
   ]
  },
  {
   "cell_type": "code",
   "execution_count": 20,
   "metadata": {},
   "outputs": [
    {
     "name": "stdout",
     "output_type": "stream",
     "text": [
      "0.5*X[0]*X[4] + 0.5*Y[0]*Y[4] + 0.5*X[1]*X[5] + 0.5*Y[1]*Y[5] + 0.5*X[2]*X[6] + 0.5*Y[2]*Y[6] + 0.5*X[3]*X[7] + 0.5*Y[3]*Y[7]\n",
      "Circuit(8).h[0].cx[0, 4].x[0].h[1].cx[1, 5].x[1].h[2].cx[2, 6].x[2].h[3].cx[3, 7].x[3]\n"
     ]
    },
    {
     "data": {
      "text/plain": [
       "(0, 0, 1, 1, 1, 1, 0, 0)"
      ]
     },
     "execution_count": 20,
     "metadata": {},
     "output_type": "execute_result"
    }
   ],
   "source": [
    "q = wq.pauli(qubo)\n",
    "step = 2\n",
    "\n",
    "#mixer and init state\n",
    "for i in range(n_node):\n",
    "    if i==0:\n",
    "        mixer = 0.5*X[0]*X[n_node] + 0.5*Y[0]*Y[n_node]\n",
    "        init = Circuit().h[0].cx[0,n_node].x[0]\n",
    "    else:\n",
    "        mixer += 0.5*X[i]*X[i+n_node] + 0.5*Y[i]*Y[i+n_node]\n",
    "        init.h[i].cx[i,i+n_node].x[i]\n",
    "\n",
    "print(mixer)\n",
    "print(init)\n",
    "\n",
    "result = vqe.Vqe(vqe.QaoaAnsatz(q, step, init, mixer)).run()\n",
    "res_qaoa = result.most_common(1)[0][0]\n",
    "res_qaoa"
   ]
  },
  {
   "cell_type": "code",
   "execution_count": 21,
   "metadata": {},
   "outputs": [
    {
     "data": {
      "text/plain": [
       "<matplotlib.collections.PathCollection at 0x7f8720148860>"
      ]
     },
     "execution_count": 21,
     "metadata": {},
     "output_type": "execute_result"
    },
    {
     "data": {
      "image/png": "[encoded data removed]",
      "text/plain": [
       "<Figure size 432x288 with 1 Axes>"
      ]
     },
     "metadata": {},
     "output_type": "display_data"
    }
   ],
   "source": [
    "resc = []\n",
    "\n",
    "for i in range(N):\n",
    "    if res_qaoa[i] == 1:\n",
    "        resc.append(int(i/n_node))\n",
    "\n",
    "df['cluster_qaoa'] = resc\n",
    "\n",
    "plt.scatter(df['x'], df['y'], c=df['cluster_qaoa'])"
   ]
  },
  {
   "cell_type": "code",
   "execution_count": 22,
   "metadata": {},
   "outputs": [
    {
     "data": {
      "text/plain": [
       "Circuit(8).h[0].cx[0, 4].x[0].h[1].cx[1, 5].x[1].h[2].cx[2, 6].x[2].h[3].cx[3, 7].x[3].cx[0, 1].rz(-5.797199933452411)[1].cx[0, 1].cx[0, 2].rz(-30.924017050189324)[2].cx[0, 2].cx[0, 3].rz(-25.837891025910476)[3].cx[0, 3].rz(62.55910800955221)[0].cx[1, 2].rz(-31.735447880582424)[2].cx[1, 2].cx[1, 3].rz(-26.287206873923413)[3].cx[1, 3].rz(63.81985468795825)[1].cx[2, 3].rz(-5.590316323824446)[3].cx[2, 3].rz(68.2497812545962)[2].rz(57.71541422365834)[3].cx[4, 5].rz(-5.797199933452411)[5].cx[4, 5].cx[4, 6].rz(-30.924017050189324)[6].cx[4, 6].cx[4, 7].rz(-25.837891025910476)[7].cx[4, 7].rz(62.55910800955221)[4].cx[5, 6].rz(-31.735447880582424)[6].cx[5, 6].cx[5, 7].rz(-26.287206873923413)[7].cx[5, 7].rz(63.81985468795825)[5].cx[6, 7].rz(-5.590316323824446)[7].cx[6, 7].rz(68.2497812545962)[6].rz(57.71541422365834)[7].h[0].h[4].cx[0, 4].rz(-12.26766485698314)[4].cx[0, 4].h[0].h[4].rx(-1.5707963267948966)[0].rx(-1.5707963267948966)[4].cx[0, 4].rz(-12.26766485698314)[4].cx[0, 4].rx(1.5707963267948966)[0].rx(1.5707963267948966)[4].h[1].h[5].cx[1, 5].rz(-12.26766485698314)[5].cx[1, 5].h[1].h[5].rx(-1.5707963267948966)[1].rx(-1.5707963267948966)[5].cx[1, 5].rz(-12.26766485698314)[5].cx[1, 5].rx(1.5707963267948966)[1].rx(1.5707963267948966)[5].h[2].h[6].cx[2, 6].rz(-12.26766485698314)[6].cx[2, 6].h[2].h[6].rx(-1.5707963267948966)[2].rx(-1.5707963267948966)[6].cx[2, 6].rz(-12.26766485698314)[6].cx[2, 6].rx(1.5707963267948966)[2].rx(1.5707963267948966)[6].h[3].h[7].cx[3, 7].rz(-12.26766485698314)[7].cx[3, 7].h[3].h[7].rx(-1.5707963267948966)[3].rx(-1.5707963267948966)[7].cx[3, 7].rz(-12.26766485698314)[7].cx[3, 7].rx(1.5707963267948966)[3].rx(1.5707963267948966)[7].cx[0, 1].rz(-0.7939032933399266)[1].cx[0, 1].cx[0, 2].rz(-4.234920178925873)[2].cx[0, 2].cx[0, 3].rz(-3.538395607172455)[3].cx[0, 3].rz(8.567219079438255)[0].cx[1, 2].rz(-4.346042378601846)[2].cx[1, 2].cx[1, 3].rz(-3.5999276115162933)[3].cx[1, 3].rz(8.739873283458065)[1].cx[2, 3].rz(-0.7655714122754279)[3].cx[2, 3].rz(9.346533969803147)[2].rz(7.903894630964176)[3].cx[4, 5].rz(-0.7939032933399266)[5].cx[4, 5].cx[4, 6].rz(-4.234920178925873)[6].cx[4, 6].cx[4, 7].rz(-3.538395607172455)[7].cx[4, 7].rz(8.567219079438255)[4].cx[5, 6].rz(-4.346042378601846)[6].cx[5, 6].cx[5, 7].rz(-3.5999276115162933)[7].cx[5, 7].rz(8.739873283458065)[5].cx[6, 7].rz(-0.7655714122754279)[7].cx[6, 7].rz(9.346533969803147)[6].rz(7.903894630964176)[7].h[0].h[4].cx[0, 4].rz(-5.129152820260011)[4].cx[0, 4].h[0].h[4].rx(-1.5707963267948966)[0].rx(-1.5707963267948966)[4].cx[0, 4].rz(-5.129152820260011)[4].cx[0, 4].rx(1.5707963267948966)[0].rx(1.5707963267948966)[4].h[1].h[5].cx[1, 5].rz(-5.129152820260011)[5].cx[1, 5].h[1].h[5].rx(-1.5707963267948966)[1].rx(-1.5707963267948966)[5].cx[1, 5].rz(-5.129152820260011)[5].cx[1, 5].rx(1.5707963267948966)[1].rx(1.5707963267948966)[5].h[2].h[6].cx[2, 6].rz(-5.129152820260011)[6].cx[2, 6].h[2].h[6].rx(-1.5707963267948966)[2].rx(-1.5707963267948966)[6].cx[2, 6].rz(-5.129152820260011)[6].cx[2, 6].rx(1.5707963267948966)[2].rx(1.5707963267948966)[6].h[3].h[7].cx[3, 7].rz(-5.129152820260011)[7].cx[3, 7].h[3].h[7].rx(-1.5707963267948966)[3].rx(-1.5707963267948966)[7].cx[3, 7].rz(-5.129152820260011)[7].cx[3, 7].rx(1.5707963267948966)[3].rx(1.5707963267948966)[7]"
      ]
     },
     "execution_count": 22,
     "metadata": {},
     "output_type": "execute_result"
    }
   ],
   "source": [
    "result.circuit"
   ]
  },
  {
   "cell_type": "code",
   "execution_count": null,
   "metadata": {},
   "outputs": [],
   "source": []
  }
 ],
 "metadata": {
  "kernelspec": {
   "display_name": "Python 3",
   "language": "python",
   "name": "python3"
  },
  "language_info": {
   "codemirror_mode": {
    "name": "ipython",
    "version": 3
   },
   "file_extension": ".py",
   "mimetype": "text/x-python",
   "name": "python",
   "nbconvert_exporter": "python",
   "pygments_lexer": "ipython3",
   "version": "3.6.5"
  }
 },
 "nbformat": 4,
 "nbformat_minor": 4
}
