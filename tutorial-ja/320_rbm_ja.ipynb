{
 "cells": [
  {
   "cell_type": "markdown",
   "metadata": {
    "colab_type": "text",
    "id": "t_-sVEIDhd-J"
   },
   "source": [
    "# サンプリングによる制限付ボルツマンマシンの学習\n",
    "QUBOで計算できる用途として組合せ最適化問題以外にも、最適解や局所解を含む問題の確率分布モデルを利用したボルツマンマシンがあります。ここでは、このボルツマンマシンにおけるサンプリング方法を簡単なモデルで確認したいと思います。"
   ]
  },
  {
   "cell_type": "markdown",
   "metadata": {
    "colab_type": "text",
    "id": "9JUM_rWQs459"
   },
   "source": [
    "## RBM（制限付ボルツマンマシン）とは？\n",
    "RBM(制限ボルツマンマシン、制限付きボルツマンマシン)とは、ボルツマンマシンと呼ばれる確率的ネットワークモデルに対してネットワーク構造に制限を加えたモデルです。\n",
    "\n",
    "参考：\n",
    "Restricted Boltzmann machine\n",
    "https://en.wikipedia.org/wiki/Restricted_Boltzmann_machine"
   ]
  },
  {
   "cell_type": "markdown",
   "metadata": {
    "colab_type": "text",
    "id": "_xK84qUBtd0o"
   },
   "source": [
    "## 参考資料\n",
    "モントリオール大学のこの論文が始まりです。ディープラーニングでの有名な先生がD-WaveでのRBMの実装可能性として下記の論文を発表し、D-Waveマシンへの実装が検討されました。\n",
    "\n",
    "On the Challenges of Physical Implementations of RBMs\n",
    "Vincent Dumoulin and Ian J. Goodfellow and Aaron Courville and Yoshua Bengio\n",
    "https://arxiv.org/pdf/1312.5258.pdf\n",
    "\n",
    "この際にはD-Waveを模したソフトウェアシミュレータを用いて学習に必要なRBMのNLL(negative logarithmic likelihoods)の勾配の推定にサンプリングが活用できるという方針が模索されましたが、実機は使われませんでした。この論文とGeoffrey Hinton先生の下記の論文はRBMを学ぶ上で大変役立ちます。\n",
    "\n",
    "A Practical Guide to Training Restricted Boltzmann Machines\n",
    "Geoffrey Hinton\n",
    "https://www.cs.toronto.edu/~hinton/absps/guideTR.pdf"
   ]
  },
  {
   "cell_type": "markdown",
   "metadata": {
    "colab_type": "text",
    "id": "0gJPAt8kth_O"
   },
   "source": [
    "## ボルツマンサンプリングの提唱\n",
    "次に、実際に上記の問題をD-Wave実機で行なった結果として、\n",
    "\n",
    "Application of Quantum Annealing to Training of Deep Neural Networks\n",
    "Steven H. Adachi, Maxwell P. Henderson\n",
    "https://arxiv.org/abs/1510.06356\n",
    "\n",
    "があります。これは量子アニーラをボルツマンサンプリングマシンとして、上記のNLLの推定に役立てようという具体的な方針が示され、実機で学習が実際にされています。"
   ]
  },
  {
   "cell_type": "markdown",
   "metadata": {
    "colab_type": "text",
    "id": "gBvepLKCttWW"
   },
   "source": [
    "## RBMモデル概略\n",
    "まず、モデルは可視層と呼ばれる層と隠れ層と呼ばれる２層からなります。結合に方向性がない無向グラフです。\n",
    "\n",
    "<img src=\"https://github.com/Blueqat/Blueqat-tutorials/blob/master/tutorial-ja/img/021_0.png?raw=1\">"
   ]
  },
  {
   "cell_type": "markdown",
   "metadata": {
    "colab_type": "text",
    "id": "LSAV3mkUC6Qq"
   },
   "source": [
    "確率分布が下記のようにボルツマン分布に従います。\n",
    "\n",
    "$$p(v,h) = \\frac{1}{Z}exp(-E(v,h))$$\n",
    "\n",
    "この確率分布はエネルギー関数で規定され、可視層のノード数nと隠れ層のノード数mにおいて下記のように示されます。\n",
    "\n",
    "$$E(v,h) = -\\sum_{i=1}^n b_i v_i - \\sum_{j=1}^m c_j h_j -\\sum_{i=1}^n\\sum_{j=1}^m W_{ij}v_ih_j$$\n",
    "\n",
    "また、正規化のための規格化定数(分配関数)は下記の通りになります。\n",
    "\n",
    "$$Z = \\sum_{v_k}\\sum_{h_l}exp\\left( \\sum_kb_kv_k + \\sum_l c_l h_l + \\sum_{k,l} W_{kl}v_k h_l \\right)$$\n",
    "\n",
    "また、完全二部グラフより、条件付き確率分布は$v$と$h$についてそれぞれシグモイド関数を用いて下記の通りになります。\n",
    "\n",
    "$$p(h_j = 1|v) = sigm(c_j+\\sum_iW_{ij}v_i) \\\\p(v_i = 1|h) = sigm(b_i+\\sum_jW_{ij}h_j)$$"
   ]
  },
  {
   "cell_type": "markdown",
   "metadata": {
    "colab_type": "text",
    "id": "qXD5eLtYwObE"
   },
   "source": [
    "## 学習について\n",
    "次に上記の確率分布からなるRBMのモデルの学習方法を確認したいと思います。複層のDBM(Deep Boltzmann Machine)でも、RBMの形にして学習をします。これらの学習は対数尤度$\\log{P}$を最大にするように、トレーニングデータとモデルの誤差計算をします。結合係数やバイアスの勾配計算は$\\log{P}$を用いて下記のようになります。\n",
    "\n",
    "<dev>\n",
    "    <img src=\"https://github.com/Blueqat/Blueqat-tutorials/blob/master/tutorial-ja/img/021_1.png?raw=1\" width=800>\n",
    "<\\dev>\n",
    "\n",
    "ここで、上記の結合係数の勾配計算で、modelの期待値の計算はあまり効率的な計算がありません。\n",
    "\n",
    "<dev>\n",
    "    <img class=\"math math-inline\" src=\"https://render.githubusercontent.com/render/math?math=%3D%20%5Cfrac%7B1%7D%7BZ%7D%5Csum_%7B%5C%7Bv_k%5C%7D%7D%5Csum_%7B%5C%7Bh_l%5C%7D%7Dv_ih_j%20exp%5Cleft(%5Csum_kb_kv_k%20%2B%20%5Csum_lc_lh_l%2B%5Csum_%7Bkl%7DW_%7Bkl%7Dv_kh_l%5Cright)%0D%0A\" width=500>\n",
    "<\\dev>\n",
    "\n",
    "実際には、この値を直接求めるのが大変なので、近似計算でCD法など、Gibbsサンプリングを応用した手法で、順番に隠れ層と可視層の計算を行なって値を取るという方法が行われます。CD法などでは計算量を節約する意味で、かなり近似的な計算が行われ、これを精度改善しようとすると計算量と時間がかかります。\n",
    "\n",
    "上記は結合係数の更新ですが、バイアスの更新でも同様です。"
   ]
  },
  {
   "cell_type": "markdown",
   "metadata": {
    "colab_type": "text",
    "id": "LRWk0Z7YxWyD"
   },
   "source": [
    "## ボルツマンサンプリングを活用したパラメータ更新\n",
    "ここで、このCD法の代わりにアニーリングマシンを使って勾配計算をしようというのが実機を使ったボルツマンサンプリング学習の基本です。\n",
    "\n",
    "ボルツマンサンプリングを使った際の結合係数やバイアスの更新式は、下記の通りです。$\\alpha$はモーメンタムで$\\epsilon$は学習率です。\n",
    "\n",
    "<dev>\n",
    "    <img src=\"https://github.com/Blueqat/Blueqat-tutorials/blob/master/tutorial-ja/img/021_3.png?raw=1\" width=700>\n",
    "</dev>\n",
    "\n",
    "RBMを学習した後は古典計算機でバックプロパゲーションで仕上げの学習をするようです。"
   ]
  },
  {
   "cell_type": "markdown",
   "metadata": {
    "colab_type": "text",
    "id": "oKabmUacx6ud"
   },
   "source": [
    "## アニーリングを活用したサンプリング手法\n",
    "\n",
    "D-Waveマシンは量子アニーリングという理論をベースに作られており、基本的には最適化問題を解くために最小値を求めるような設計になっています。しかし実際には、外部環境の影響やその他の理由で、最適解に落ち着かない場合が多いです。そのため、この局所解へ落ちる性質を利用して、分布を求めるサンプリングマシンとして活用するというのが、サンプリング学習の基本です。\n",
    "\n",
    "この励起状態のばらつきがボルツマン分布として仮定できると、下記式に近似できこれと初期に出てきた分布の式を対応させることで、サンプリング手法を更新式に導入できそうです。\n",
    "\n",
    "<dev>\n",
    "    <img src=\"https://github.com/Blueqat/Blueqat-tutorials/blob/master/tutorial-ja/img/021_4.png?raw=1\" width=\"250\">\n",
    "</dev>\n",
    "\n",
    "$H_f$は最終的に求めるコスト関数で、$\\beta_{eff}$はサンプリングの分布を調整する変数です。これを使用することで、一番計算量のかかる部分を下記のように近似します。\n",
    "\n",
    "<dev>\n",
    "<img src=\"https://github.com/Blueqat/Blueqat-tutorials/blob/master/tutorial-ja/img/021_5.png?raw=1\" width=500>\n",
    "</dev>\n",
    "\n",
    "これをmodel期待値に適用します。他の可視層や隠れ層のモデル期待値も同様です。\n",
    "\n"
   ]
  },
  {
   "cell_type": "markdown",
   "metadata": {
    "colab_type": "text",
    "id": "cz7rdeWMy857"
   },
   "source": [
    "## 簡単な例題で実行する\n",
    "簡単な例題で上記のRBMのサンプリングに関して学んでみたいと思います。\n",
    "まずはD-Waveの例題でも載っている、簡単な問題で。\n",
    "\n",
    "<dev>\n",
    "    <img src=\"https://github.com/Blueqat/Blueqat-tutorials/blob/master/tutorial-ja/img/021_6.png?raw=1\" width=150>\n",
    "</dev>\n",
    "\n",
    "このQUBOmatrixの場合、コスト関数は、\n",
    "\n",
    "<dev>\n",
    "    <img class=\"math math-inline\" src=\"https://render.githubusercontent.com/render/math?math=E(x)%20%3D%20-x_1-x_2%2B2x_1x_2\" width=200>\n",
    "</dev>\n",
    "\n",
    "となります。xの場合の数でエネルギーを求めて見ると、\n",
    "\n",
    "<dev>\n",
    "    <img src=\"https://github.com/Blueqat/Blueqat-tutorials/blob/master/tutorial-ja/img/021_7.png?raw=1\" width=150>\n",
    "</dev>\n",
    "\n",
    "解析的に考えると、ここではすべての場合の数が出せているので、まず規格化定数Zを求めます。\n",
    "\n",
    "<dev>\n",
    "    <img class=\"math math-inline\" src=\"https://render.githubusercontent.com/render/math?math=Z%20%3D%20%5Csum%20exp(E(x))%20%3D%20exp(0)%20%2B%20exp(1)%20%2B%20exp(1)%20%2B%20exp(0)%20%3D%201%2B2.718%2B2.718%2B1%20%3D%207.44\" width=700>\n",
    "</dev>\n",
    "\n",
    "そして、\n",
    "\n",
    "<dev>\n",
    "    <img class=\"math math-inline\" src=\"https://render.githubusercontent.com/render/math?math=%7BP%20%3D%20%5Cfrac%7B1%7D%7BZ%7Dexp(E)%0D%0A%7D\" width=120>\n",
    "</dev>\n",
    "\n",
    "より、確率は0.13と0.37がでます。\n",
    "\n",
    "<dev>\n",
    "    <img src=\"https://github.com/Blueqat/Blueqat-tutorials/blob/master/tutorial-ja/img/021_8.png?raw=1\" width=200>\n",
    "</dev>\n",
    "\n",
    "これを手作業で出すのは大変なので、サンプリングで考えてみます。"
   ]
  },
  {
   "cell_type": "markdown",
   "metadata": {
    "colab_type": "text",
    "id": "w8QYrCcR1Ihs"
   },
   "source": [
    "## Wildqatでサンプリング\n",
    "サンプリングは簡単です。上記QUBOを複数回実行して分布をとります。"
   ]
  },
  {
   "cell_type": "code",
   "execution_count": 3,
   "metadata": {
    "colab": {
     "base_uri": "https://localhost:8080/",
     "height": 136
    },
    "colab_type": "code",
    "id": "BYv3Xy4meYwC",
    "outputId": "7929d412-6146-412a-a50f-69559e57b2bd"
   },
   "outputs": [
    {
     "name": "stdout",
     "output_type": "stream",
     "text": [
      "Collecting blueqat\n",
      "\u001b[?25l  Downloading https://files.pythonhosted.org/packages/bb/86/1b72a7cbe500b861d63e84cc6383fbf3730f08ae69fcd85146ae8e3b8873/blueqat-0.3.10-py3-none-any.whl (46kB)\n",
      "\u001b[K     |████████████████████████████████| 51kB 1.6MB/s \n",
      "\u001b[?25hRequirement already satisfied, skipping upgrade: numpy~=1.12 in /usr/local/lib/python3.6/dist-packages (from blueqat) (1.17.4)\n",
      "Requirement already satisfied, skipping upgrade: scipy>=1.1.0 in /usr/local/lib/python3.6/dist-packages (from blueqat) (1.3.3)\n",
      "Installing collected packages: blueqat\n",
      "Successfully installed blueqat-0.3.10\n"
     ]
    }
   ],
   "source": [
    "!pip install -U blueqat"
   ]
  },
  {
   "cell_type": "code",
   "execution_count": 0,
   "metadata": {
    "colab": {},
    "colab_type": "code",
    "id": "Dn5qPBidedWy"
   },
   "outputs": [],
   "source": [
    "import blueqat.wq as wq\n",
    "import numpy as np\n",
    "a = wq.Opt()\n",
    "\n",
    "beta = 0.05\n",
    "a.R = 0.5\n",
    "\n",
    "a.qubo = np.asarray([[-1,2],[0,-1]])*beta\n",
    "qarr = [[0,0],[0,1],[1,0],[1,1]]"
   ]
  },
  {
   "cell_type": "code",
   "execution_count": 5,
   "metadata": {
    "colab": {
     "base_uri": "https://localhost:8080/",
     "height": 34
    },
    "colab_type": "code",
    "id": "OLJnB7tc6yNh",
    "outputId": "0e4506f3-6606-4d6a-cd40-4fc446a895e5"
   },
   "outputs": [
    {
     "name": "stdout",
     "output_type": "stream",
     "text": [
      "[104, 385, 406, 105]\n"
     ]
    }
   ],
   "source": [
    "cnt = [0]*4\n",
    "\n",
    "for i in range(1000):\n",
    "    b = a.sa()\n",
    "  \n",
    "    for j in range(4):\n",
    "        if b == qarr[j]:\n",
    "            cnt[j] += 1\n",
    "\n",
    "print(cnt)"
   ]
  },
  {
   "cell_type": "markdown",
   "metadata": {
    "colab_type": "text",
    "id": "yFS5qGq28YK6"
   },
   "source": [
    " 上記はqarr = [[0,0],[0,1],[1,0],[1,1]]の出現確率を表しており、エネルギーの低い方が出やすくなっています。\n",
    " 全体の試行回数は今回1000だったので、それぞれを1/1000することで確率分布を求めることができます。これを更新式に入れることで結合荷重の更新を行います。"
   ]
  },
  {
   "cell_type": "code",
   "execution_count": null,
   "metadata": {},
   "outputs": [],
   "source": []
  }
 ],
 "metadata": {
  "colab": {
   "collapsed_sections": [],
   "name": "044_rbm_sampling",
   "provenance": []
  },
  "kernelspec": {
   "display_name": "Python 3",
   "language": "python",
   "name": "python3"
  },
  "language_info": {
   "codemirror_mode": {
    "name": "ipython",
    "version": 3
   },
   "file_extension": ".py",
   "mimetype": "text/x-python",
   "name": "python",
   "nbconvert_exporter": "python",
   "pygments_lexer": "ipython3",
   "version": "3.6.5"
  }
 },
 "nbformat": 4,
 "nbformat_minor": 1
}
